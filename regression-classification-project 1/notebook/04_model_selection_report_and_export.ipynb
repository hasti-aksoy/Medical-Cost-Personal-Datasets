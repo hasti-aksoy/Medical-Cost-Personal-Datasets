{
 "cells": [
  {
   "cell_type": "code",
   "execution_count": 60,
   "id": "ef2a8a84",
   "metadata": {},
   "outputs": [],
   "source": [
    "# ============================================================\n",
    "# 04_model_selection_report_and_export.ipynb\n",
    "# Medical Cost Prediction — Nested CV, Final Fit, Learning Curve, Export\n",
    "# Models: Linear, Ridge, Lasso, ElasticNet (+ log metrics, no new models!)\n",
    "# ============================================================\n",
    "\n",
    "# 1) Imports & Setup\n",
    "import numpy as np\n",
    "import pandas as pd\n",
    "import matplotlib.pyplot as plt\n",
    "import seaborn as sns, os, joblib\n",
    "\n",
    "sns.set(style=\"whitegrid\", rc={\"figure.figsize\": (7,5)})\n",
    "from pathlib import Path\n",
    "\n",
    "from sklearn.model_selection import train_test_split, KFold, GridSearchCV, RandomizedSearchCV, learning_curve\n",
    "from sklearn.preprocessing import OneHotEncoder, StandardScaler\n",
    "from sklearn.compose import ColumnTransformer\n",
    "from sklearn.pipeline import Pipeline\n",
    "from sklearn.linear_model import LinearRegression, Ridge, Lasso, ElasticNet\n",
    "from sklearn.metrics import mean_squared_error, mean_absolute_error, r2_score\n",
    "\n",
    "RANDOM_STATE = 42\n",
    "np.random.seed(RANDOM_STATE)"
   ]
  },
  {
   "cell_type": "code",
   "execution_count": 61,
   "id": "bcccb099",
   "metadata": {},
   "outputs": [
    {
     "name": "stdout",
     "output_type": "stream",
     "text": [
      "(1338, 7) rows, cols | missing: 0\n"
     ]
    }
   ],
   "source": [
    "# 2) Load\n",
    "df = pd.read_csv(\"../data/insurance.csv\")\n",
    "print(df.shape, \"rows, cols | missing:\", df.isna().sum().sum())"
   ]
  },
  {
   "cell_type": "code",
   "execution_count": 62,
   "id": "fa5d372e",
   "metadata": {},
   "outputs": [],
   "source": [
    "# 3) Feature Engineering \n",
    "df_fe = df.copy()\n",
    "df_fe[\"smoker_int\"] = (df_fe[\"smoker\"] == \"yes\").astype(int)\n",
    "df_fe[\"smoker_age\"] = df_fe[\"smoker_int\"] * df_fe[\"age\"]\n",
    "df_fe[\"smoker_bmi\"] = df_fe[\"smoker_int\"] * df_fe[\"bmi\"]\n",
    "df_fe[\"age_bmi\"]    = df_fe[\"age\"] * df_fe[\"bmi\"]\n",
    "\n",
    "target = \"charges\"\n",
    "base_num = [\"age\",\"bmi\",\"children\"]\n",
    "eng_num  = [\"smoker_age\",\"smoker_bmi\",\"age_bmi\"]\n",
    "num_cols = base_num + eng_num\n",
    "cat_cols = [\"sex\",\"smoker\",\"region\"]\n",
    "\n",
    "X = df_fe.drop(columns=[target, \"smoker_int\"])\n",
    "y = df_fe[target]\n",
    "\n",
    "X_train, X_test, y_train, y_test = train_test_split(\n",
    "    X, y, test_size=0.2, random_state=RANDOM_STATE\n",
    ")\n",
    "# 3) Feature Engineering \n",
    "df_fe = df.copy()\n",
    "df_fe[\"smoker_int\"] = (df_fe[\"smoker\"] == \"yes\").astype(int)\n",
    "df_fe[\"smoker_age\"] = df_fe[\"smoker_int\"] * df_fe[\"age\"]\n",
    "df_fe[\"smoker_bmi\"] = df_fe[\"smoker_int\"] * df_fe[\"bmi\"]\n",
    "df_fe[\"age_bmi\"]    = df_fe[\"age\"] * df_fe[\"bmi\"]\n",
    "\n",
    "target = \"charges\"\n",
    "base_num = [\"age\",\"bmi\",\"children\"]\n",
    "eng_num  = [\"smoker_age\",\"smoker_bmi\",\"age_bmi\"]\n",
    "num_cols = base_num + eng_num\n",
    "cat_cols = [\"sex\",\"smoker\",\"region\"]\n",
    "\n",
    "X = df_fe.drop(columns=[target, \"smoker_int\"])\n",
    "y = df_fe[target]\n",
    "\n",
    "X_train, X_test, y_train, y_test = train_test_split(\n",
    "    X, y, test_size=0.2, random_state=RANDOM_STATE\n",
    ")\n"
   ]
  },
  {
   "cell_type": "code",
   "execution_count": 63,
   "id": "545c59a2",
   "metadata": {},
   "outputs": [],
   "source": [
    "# 4) Preprocessor\n",
    "num_transformer = Pipeline([(\"scaler\", StandardScaler())])\n",
    "cat_transformer = OneHotEncoder(drop=\"first\", handle_unknown=\"ignore\")\n",
    "\n",
    "preprocessor = ColumnTransformer(\n",
    "    transformers=[\n",
    "        (\"num\", num_transformer, num_cols),\n",
    "        (\"cat\", cat_transformer, cat_cols),\n",
    "    ]\n",
    ")"
   ]
  },
  {
   "cell_type": "code",
   "execution_count": 64,
   "id": "cf4257ba",
   "metadata": {},
   "outputs": [],
   "source": [
    "# 5) Helpers (metrics, reporting)\n",
    "def mape(y_true, y_pred):\n",
    "    return 100*np.mean(np.abs((y_true - y_pred) / (y_true + 1e-9)))\n",
    "\n",
    "def rmsle(y_true, y_pred):\n",
    "    return np.sqrt(np.mean((np.log1p(y_pred) - np.log1p(y_true))**2))\n",
    "\n",
    "def report_all(name, y_true, y_pred):\n",
    "    rmse = np.sqrt(mean_squared_error(y_true, y_pred))\n",
    "    mae  = mean_absolute_error(y_true, y_pred)\n",
    "    r2   = r2_score(y_true, y_pred)\n",
    "    mp   = mape(y_true, y_pred)\n",
    "    rl   = rmsle(y_true, y_pred)\n",
    "    print(f\"[{name}] RMSE: {rmse:.2f} | MAE: {mae:.2f} | R²: {r2:.3f} | MAPE: {mp:.2f}% | RMSLE: {rl:.4f}\")\n",
    "    return rmse, mae, r2, mp, rl\n"
   ]
  },
  {
   "cell_type": "code",
   "execution_count": 65,
   "id": "5bf796f8",
   "metadata": {},
   "outputs": [],
   "source": [
    "# 6) Model grids \n",
    "models = {\n",
    "    \"Linear\": (LinearRegression(), {}),  \n",
    "    \"Ridge\": (Ridge(random_state=RANDOM_STATE), {\"model__alpha\": np.logspace(-3, 3, 25)}),\n",
    "    \"Lasso\": (Lasso(max_iter=50000, random_state=RANDOM_STATE), {\"model__alpha\": np.logspace(-4, 2, 25)}),\n",
    "    \"ElasticNet\": (ElasticNet(max_iter=50000, random_state=RANDOM_STATE),\n",
    "                   {\"model__alpha\": np.logspace(-4, 2, 30),\n",
    "                    \"model__l1_ratio\": np.linspace(0.05, 0.95, 19)}),\n",
    "}\n",
    "\n",
    "outer_cv = KFold(n_splits=5, shuffle=True, random_state=RANDOM_STATE)\n",
    "inner_cv = KFold(n_splits=5, shuffle=True, random_state=RANDOM_STATE)\n",
    "\n",
    "def nested_cv_rmse(model_name, estimator, param_grid):\n",
    "    \"\"\"Manual nested CV returning outer RMSE scores and best_params per fold.\"\"\"\n",
    "    outer_scores = []\n",
    "    best_params_per_fold = []\n",
    "    for tr_idx, val_idx in outer_cv.split(X_train, y_train):\n",
    "        X_tr, X_val = X_train.iloc[tr_idx], X_train.iloc[val_idx]\n",
    "        y_tr, y_val = y_train.iloc[tr_idx], y_train.iloc[val_idx]\n",
    "\n",
    "        pipe = Pipeline([(\"prep\", preprocessor), (\"model\", estimator)])\n",
    "        if len(param_grid) == 0:\n",
    "            # no tuning\n",
    "            pipe.fit(X_tr, y_tr)\n",
    "            y_val_pred = pipe.predict(X_val)\n",
    "            rmse = np.sqrt(mean_squared_error(y_val, y_val_pred))\n",
    "            outer_scores.append(rmse)\n",
    "            best_params_per_fold.append({})\n",
    "        else:\n",
    "            # tune on inner cv\n",
    "            search = RandomizedSearchCV(\n",
    "                pipe,\n",
    "                param_distributions=param_grid,\n",
    "                n_iter=40,\n",
    "                scoring=\"neg_root_mean_squared_error\",\n",
    "                cv=inner_cv,\n",
    "                random_state=RANDOM_STATE,\n",
    "                n_jobs=-1,\n",
    "            )\n",
    "            search.fit(X_tr, y_tr)\n",
    "            best_pipe = search.best_estimator_\n",
    "            y_val_pred = best_pipe.predict(X_val)\n",
    "            rmse = np.sqrt(mean_squared_error(y_val, y_val_pred))\n",
    "            outer_scores.append(rmse)\n",
    "            best_params_per_fold.append(search.best_params_)\n",
    "    return np.array(outer_scores), best_params_per_fold\n"
   ]
  },
  {
   "cell_type": "code",
   "execution_count": 66,
   "id": "7a0931d0",
   "metadata": {},
   "outputs": [
    {
     "name": "stdout",
     "output_type": "stream",
     "text": [
      "[Linear] Outer RMSE: 4897.71 ± 576.65\n"
     ]
    },
    {
     "name": "stderr",
     "output_type": "stream",
     "text": [
      "c:\\Users\\hasti_aksoy\\AppData\\Local\\Programs\\Python\\Python313\\Lib\\site-packages\\sklearn\\model_selection\\_search.py:317: UserWarning: The total space of parameters 25 is smaller than n_iter=40. Running 25 iterations. For exhaustive searches, use GridSearchCV.\n",
      "  warnings.warn(\n",
      "c:\\Users\\hasti_aksoy\\AppData\\Local\\Programs\\Python\\Python313\\Lib\\site-packages\\sklearn\\model_selection\\_search.py:317: UserWarning: The total space of parameters 25 is smaller than n_iter=40. Running 25 iterations. For exhaustive searches, use GridSearchCV.\n",
      "  warnings.warn(\n",
      "c:\\Users\\hasti_aksoy\\AppData\\Local\\Programs\\Python\\Python313\\Lib\\site-packages\\sklearn\\model_selection\\_search.py:317: UserWarning: The total space of parameters 25 is smaller than n_iter=40. Running 25 iterations. For exhaustive searches, use GridSearchCV.\n",
      "  warnings.warn(\n",
      "c:\\Users\\hasti_aksoy\\AppData\\Local\\Programs\\Python\\Python313\\Lib\\site-packages\\sklearn\\model_selection\\_search.py:317: UserWarning: The total space of parameters 25 is smaller than n_iter=40. Running 25 iterations. For exhaustive searches, use GridSearchCV.\n",
      "  warnings.warn(\n",
      "c:\\Users\\hasti_aksoy\\AppData\\Local\\Programs\\Python\\Python313\\Lib\\site-packages\\sklearn\\model_selection\\_search.py:317: UserWarning: The total space of parameters 25 is smaller than n_iter=40. Running 25 iterations. For exhaustive searches, use GridSearchCV.\n",
      "  warnings.warn(\n"
     ]
    },
    {
     "name": "stdout",
     "output_type": "stream",
     "text": [
      "[Ridge] Outer RMSE: 4898.29 ± 577.20\n"
     ]
    },
    {
     "name": "stderr",
     "output_type": "stream",
     "text": [
      "c:\\Users\\hasti_aksoy\\AppData\\Local\\Programs\\Python\\Python313\\Lib\\site-packages\\sklearn\\model_selection\\_search.py:317: UserWarning: The total space of parameters 25 is smaller than n_iter=40. Running 25 iterations. For exhaustive searches, use GridSearchCV.\n",
      "  warnings.warn(\n",
      "c:\\Users\\hasti_aksoy\\AppData\\Local\\Programs\\Python\\Python313\\Lib\\site-packages\\sklearn\\model_selection\\_search.py:317: UserWarning: The total space of parameters 25 is smaller than n_iter=40. Running 25 iterations. For exhaustive searches, use GridSearchCV.\n",
      "  warnings.warn(\n",
      "c:\\Users\\hasti_aksoy\\AppData\\Local\\Programs\\Python\\Python313\\Lib\\site-packages\\sklearn\\model_selection\\_search.py:317: UserWarning: The total space of parameters 25 is smaller than n_iter=40. Running 25 iterations. For exhaustive searches, use GridSearchCV.\n",
      "  warnings.warn(\n",
      "c:\\Users\\hasti_aksoy\\AppData\\Local\\Programs\\Python\\Python313\\Lib\\site-packages\\sklearn\\model_selection\\_search.py:317: UserWarning: The total space of parameters 25 is smaller than n_iter=40. Running 25 iterations. For exhaustive searches, use GridSearchCV.\n",
      "  warnings.warn(\n",
      "c:\\Users\\hasti_aksoy\\AppData\\Local\\Programs\\Python\\Python313\\Lib\\site-packages\\sklearn\\model_selection\\_search.py:317: UserWarning: The total space of parameters 25 is smaller than n_iter=40. Running 25 iterations. For exhaustive searches, use GridSearchCV.\n",
      "  warnings.warn(\n"
     ]
    },
    {
     "name": "stdout",
     "output_type": "stream",
     "text": [
      "[Lasso] Outer RMSE: 4900.63 ± 574.14\n",
      "[ElasticNet] Outer RMSE: 4898.05 ± 576.98\n",
      "\n",
      "=== Nested CV summary (lower RMSE is better) ===\n"
     ]
    },
    {
     "data": {
      "text/html": [
       "<div>\n",
       "<style scoped>\n",
       "    .dataframe tbody tr th:only-of-type {\n",
       "        vertical-align: middle;\n",
       "    }\n",
       "\n",
       "    .dataframe tbody tr th {\n",
       "        vertical-align: top;\n",
       "    }\n",
       "\n",
       "    .dataframe thead th {\n",
       "        text-align: right;\n",
       "    }\n",
       "</style>\n",
       "<table border=\"1\" class=\"dataframe\">\n",
       "  <thead>\n",
       "    <tr style=\"text-align: right;\">\n",
       "      <th></th>\n",
       "      <th>model</th>\n",
       "      <th>mean_rmse</th>\n",
       "      <th>std_rmse</th>\n",
       "    </tr>\n",
       "  </thead>\n",
       "  <tbody>\n",
       "    <tr>\n",
       "      <th>0</th>\n",
       "      <td>Linear</td>\n",
       "      <td>4897.714343</td>\n",
       "      <td>576.652716</td>\n",
       "    </tr>\n",
       "    <tr>\n",
       "      <th>3</th>\n",
       "      <td>ElasticNet</td>\n",
       "      <td>4898.050785</td>\n",
       "      <td>576.981059</td>\n",
       "    </tr>\n",
       "    <tr>\n",
       "      <th>1</th>\n",
       "      <td>Ridge</td>\n",
       "      <td>4898.290476</td>\n",
       "      <td>577.204717</td>\n",
       "    </tr>\n",
       "    <tr>\n",
       "      <th>2</th>\n",
       "      <td>Lasso</td>\n",
       "      <td>4900.633178</td>\n",
       "      <td>574.141210</td>\n",
       "    </tr>\n",
       "  </tbody>\n",
       "</table>\n",
       "</div>"
      ],
      "text/plain": [
       "        model    mean_rmse    std_rmse\n",
       "0      Linear  4897.714343  576.652716\n",
       "3  ElasticNet  4898.050785  576.981059\n",
       "1       Ridge  4898.290476  577.204717\n",
       "2       Lasso  4900.633178  574.141210"
      ]
     },
     "metadata": {},
     "output_type": "display_data"
    },
    {
     "name": "stdout",
     "output_type": "stream",
     "text": [
      "\n",
      "Selected best by nested CV: Linear\n"
     ]
    }
   ],
   "source": [
    "# 7) Run nested CV for all models\n",
    "results = []\n",
    "best_params_all = {}\n",
    "for name, (est, grid) in models.items():\n",
    "    scores, bestps = nested_cv_rmse(name, est, grid)\n",
    "    results.append({\"model\": name, \"mean_rmse\": scores.mean(), \"std_rmse\": scores.std(), \"scores\": scores})\n",
    "    best_params_all[name] = bestps\n",
    "    print(f\"[{name}] Outer RMSE: {scores.mean():.2f} ± {scores.std():.2f}\")\n",
    "\n",
    "results_df = pd.DataFrame([{k:v for k,v in r.items() if k!='scores'} for r in results]) \\\n",
    "               .sort_values(\"mean_rmse\")\n",
    "print(\"\\n=== Nested CV summary (lower RMSE is better) ===\")\n",
    "display(results_df)\n",
    "\n",
    "best_model_name = results_df.iloc[0][\"model\"]\n",
    "print(f\"\\nSelected best by nested CV: {best_model_name}\")"
   ]
  },
  {
   "cell_type": "code",
   "execution_count": 67,
   "id": "8f17ea19",
   "metadata": {},
   "outputs": [
    {
     "name": "stdout",
     "output_type": "stream",
     "text": [
      "\n",
      "[Final Linear] params: {}\n"
     ]
    }
   ],
   "source": [
    "# 8) Refit best model on full training \n",
    "est, grid = models[best_model_name]\n",
    "pipe = Pipeline([(\"prep\", preprocessor), (\"model\", est)])\n",
    "\n",
    "if len(grid) == 0:\n",
    "    final_model = pipe.fit(X_train, y_train)\n",
    "    final_params = {}\n",
    "else:\n",
    "    final_search = RandomizedSearchCV(\n",
    "        pipe,\n",
    "        param_distributions=grid,\n",
    "        n_iter=80,  \n",
    "        scoring=\"neg_root_mean_squared_error\",\n",
    "        cv=inner_cv,\n",
    "        random_state=RANDOM_STATE,\n",
    "        n_jobs=-1\n",
    "    )\n",
    "    final_search.fit(X_train, y_train)\n",
    "    final_model = final_search.best_estimator_\n",
    "    final_params = final_search.best_params_\n",
    "\n",
    "print(f\"\\n[Final {best_model_name}] params:\", final_params)\n"
   ]
  },
  {
   "cell_type": "code",
   "execution_count": 68,
   "id": "7ec188fe",
   "metadata": {},
   "outputs": [
    {
     "name": "stdout",
     "output_type": "stream",
     "text": [
      "[Final Linear (TEST)] RMSE: 4567.93 | MAE: 2760.61 | R²: 0.866 | MAPE: 29.37% | RMSLE: 0.3945\n"
     ]
    }
   ],
   "source": [
    "# 9) Test evaluation\n",
    "y_pred_test = final_model.predict(X_test)\n",
    "rmse, mae, r2, mp, rl = report_all(f\"Final {best_model_name} (TEST)\", y_test, y_pred_test)"
   ]
  },
  {
   "cell_type": "code",
   "execution_count": 74,
   "id": "71e7214b",
   "metadata": {},
   "outputs": [
    {
     "name": "stdout",
     "output_type": "stream",
     "text": [
      "Saved to: C:\\Users\\hasti_aksoy\\OneDrive\\Desktop\\regression-classification-project1\\reports\\figures\\learning_curve_Linear.png\n"
     ]
    },
    {
     "data": {
      "image/png": "[encoded data removed]",
      "text/plain": [
       "<Figure size 700x500 with 1 Axes>"
      ]
     },
     "metadata": {},
     "output_type": "display_data"
    }
   ],
   "source": [
    "# 10) Learning Curve for the final model\n",
    "train_sizes, train_scores, val_scores = learning_curve(\n",
    "    final_model, X_train, y_train,\n",
    "    cv=outer_cv, scoring=\"neg_root_mean_squared_error\",\n",
    "    train_sizes=np.linspace(0.1, 1.0, 8), n_jobs=-1, shuffle=True, random_state=RANDOM_STATE\n",
    ")\n",
    "\n",
    "train_rmse = -train_scores.mean(axis=1)\n",
    "val_rmse   = -val_scores.mean(axis=1)\n",
    "\n",
    "\n",
    "from pathlib import Path\n",
    "import os\n",
    "import matplotlib.pyplot as plt\n",
    "\n",
    "\n",
    "out_dir = Path(r\"C:\\Users\\hasti_aksoy\\OneDrive\\Desktop\\regression-classification-project1\\reports\\figures\")\n",
    "out_dir.mkdir(parents=True, exist_ok=True)\n",
    "\n",
    "\n",
    "fig = plt.figure(figsize=(7,5))\n",
    "plt.plot(train_sizes, train_rmse, marker=\"o\", label=\"Train RMSE\")\n",
    "plt.plot(train_sizes, val_rmse,   marker=\"s\", label=\"CV RMSE\")\n",
    "plt.xlabel(\"Training samples\")\n",
    "plt.ylabel(\"RMSE\")\n",
    "plt.title(f\"Learning Curve — {best_model_name}\")\n",
    "plt.legend()\n",
    "plt.tight_layout()\n",
    "\n",
    "\n",
    "out_file = out_dir / f\"learning_curve_{best_model_name}.png\"\n",
    "fig.savefig(out_file, dpi=200, bbox_inches=\"tight\")\n",
    "print(\"Saved to:\", out_file.resolve())\n",
    "\n",
    "\n",
    "plt.show()\n",
    "\n"
   ]
  },
  {
   "cell_type": "code",
   "execution_count": 70,
   "id": "c797a1f1",
   "metadata": {},
   "outputs": [
    {
     "name": "stdout",
     "output_type": "stream",
     "text": [
      "Saved pipeline -> ../models/final_linear_pipeline.joblib\n",
      "Saved summary -> ../reports/final_results.csv\n"
     ]
    }
   ],
   "source": [
    "# 11) Export artifacts (Pipeline + Results)\n",
    "Path(\"../models\").mkdir(parents=True, exist_ok=True)\n",
    "Path(\"../reports/figures\").mkdir(parents=True, exist_ok=True)\n",
    "\n",
    "model_path = f\"../models/final_{best_model_name.lower()}_pipeline.joblib\"\n",
    "joblib.dump(final_model, model_path)\n",
    "print(f\"Saved pipeline -> {model_path}\")\n",
    "\n",
    "# Save a compact results CSV\n",
    "final_summary = pd.DataFrame({\n",
    "    \"best_model\": [best_model_name],\n",
    "    \"rmse_test\": [rmse],\n",
    "    \"mae_test\": [mae],\n",
    "    \"r2_test\": [r2],\n",
    "    \"mape_test\": [mp],\n",
    "    \"rmsle_test\": [rl],\n",
    "    \"params\": [final_params]\n",
    "})\n",
    "final_csv = \"../reports/final_results.csv\"\n",
    "final_summary.to_csv(final_csv, index=False)\n",
    "print(f\"Saved summary -> {final_csv}\")\n",
    "\n"
   ]
  },
  {
   "cell_type": "code",
   "execution_count": 71,
   "id": "f137f985",
   "metadata": {},
   "outputs": [
    {
     "name": "stdout",
     "output_type": "stream",
     "text": [
      "Saved pipeline -> ../models/final_linear_pipeline.joblib\n",
      "Saved summary -> ../reports/final_results.csv\n"
     ]
    }
   ],
   "source": [
    "# 11) Export artifacts (Pipeline + Results)\n",
    "Path(\"../models\").mkdir(parents=True, exist_ok=True)\n",
    "Path(\"../reports/figures\").mkdir(parents=True, exist_ok=True)\n",
    "\n",
    "model_path = f\"../models/final_{best_model_name.lower()}_pipeline.joblib\"\n",
    "joblib.dump(final_model, model_path)\n",
    "print(f\"Saved pipeline -> {model_path}\")\n",
    "\n",
    "# Save a compact results CSV\n",
    "final_summary = pd.DataFrame({\n",
    "    \"best_model\": [best_model_name],\n",
    "    \"rmse_test\": [rmse],\n",
    "    \"mae_test\": [mae],\n",
    "    \"r2_test\": [r2],\n",
    "    \"mape_test\": [mp],\n",
    "    \"rmsle_test\": [rl],\n",
    "    \"params\": [final_params]\n",
    "})\n",
    "final_csv = \"../reports/final_results.csv\"\n",
    "final_summary.to_csv(final_csv, index=False)\n",
    "print(f\"Saved summary -> {final_csv}\")\n",
    "\n"
   ]
  }
 ],
 "metadata": {
  "kernelspec": {
   "display_name": "Python 3",
   "language": "python",
   "name": "python3"
  },
  "language_info": {
   "codemirror_mode": {
    "name": "ipython",
    "version": 3
   },
   "file_extension": ".py",
   "mimetype": "text/x-python",
   "name": "python",
   "nbconvert_exporter": "python",
   "pygments_lexer": "ipython3",
   "version": "3.13.7"
  }
 },
 "nbformat": 4,
 "nbformat_minor": 5
}
